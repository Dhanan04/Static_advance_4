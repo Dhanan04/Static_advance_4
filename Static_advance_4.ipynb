{
 "cells": [
  {
   "cell_type": "markdown",
   "id": "9094c3ad",
   "metadata": {},
   "source": [
    "#Ans1.)\n",
    "\n",
    "t-test: It is used when the sample size is small (typically less than 30) or when the population standard deviation is unknown. It assesses whether the means of two groups are statistically different from each other.\n",
    "\n",
    "Example: A researcher wants to determine if there is a significant difference in test scores between two groups of students who received different teaching methods.\n",
    "\n",
    "z-test: It is used when the sample size is large (typically greater than 30) and the population standard deviation is known. It assesses whether the means of two groups are statistically different from each other.\n",
    "\n",
    "Example: A manufacturer wants to test whether the mean weight of a product batch differs from the specified weight"
   ]
  },
  {
   "cell_type": "code",
   "execution_count": null,
   "id": "39300e8b",
   "metadata": {},
   "outputs": [],
   "source": []
  },
  {
   "cell_type": "markdown",
   "id": "0e220a54",
   "metadata": {},
   "source": [
    "#Ans2.)\n",
    "\n",
    "One-tailed test: It is used to test if a sample mean is significantly greater than or less than a population mean, but not both. The hypothesis is directional.\n",
    "\n",
    "Example: Testing if a new drug decreases blood pressure (one-tailed lower) or increases blood pressure (one-tailed upper).\n",
    "Two-tailed test: It is used to test if a sample mean is significantly different from a population mean in any direction. The hypothesis is non-directional.\n",
    "\n",
    "Example: Testing if a coin is fair (two-tailed) to see if it has a bias towards either heads or tails"
   ]
  },
  {
   "cell_type": "code",
   "execution_count": null,
   "id": "d5b3bbc1",
   "metadata": {},
   "outputs": [],
   "source": []
  },
  {
   "cell_type": "markdown",
   "id": "73e79d67",
   "metadata": {},
   "source": [
    "#Ans3.)\n",
    "\n",
    "Type 1 error: It occurs when the null hypothesis is rejected when it is actually true. The probability of committing a Type 1 error is denoted by α (alpha).\n",
    "\n",
    "Example: Rejecting the null hypothesis that a defendant is innocent (null hypothesis) when they are actually innocent.\n",
    "Type 2 error: It occurs when the null hypothesis is not rejected when it is actually false. The probability of committing a Type 2 error is denoted by β (beta).\n",
    "\n",
    "Example: Failing to reject the null hypothesis that a defendant is innocent (null hypothesis) when they are actually guilty"
   ]
  },
  {
   "cell_type": "code",
   "execution_count": null,
   "id": "6d5556a0",
   "metadata": {},
   "outputs": [],
   "source": []
  },
  {
   "cell_type": "markdown",
   "id": "1620127f",
   "metadata": {},
   "source": [
    "#Ans4.)\n",
    "\n",
    "Bayes's theorem is a fundamental theorem in probability theory that describes the probability of an event based on prior knowledge of conditions that might be related to the event. Mathematically.\n",
    "\n",
    "Example: Suppose a test for a certain disease is known to be 99% accurate. If the disease affects 1% of the population and a randomly selected individual tests positive for the disease, Bayes's theorem can be used to calculate the probability that the individual actually has the disease"
   ]
  },
  {
   "cell_type": "code",
   "execution_count": null,
   "id": "852ee826",
   "metadata": {},
   "outputs": [],
   "source": []
  },
  {
   "cell_type": "markdown",
   "id": "5681c4b4",
   "metadata": {},
   "source": [
    "#Ans5.)\n",
    "\n",
    "A confidence interval is a range of values that likely contains the population parameter of interest, such as a population mean or proportion, along with an associated level of confidence. It provides an estimate of the precision or uncertainty of a sample statistic.\n",
    "\n",
    "Example: For a sample mean of 50, standard deviation of 5, and sample size of 100, with a 95% confidence level, the confidence interval can be calculated using the appropriate critical value from the t-distribution or normal distribution."
   ]
  },
  {
   "cell_type": "code",
   "execution_count": null,
   "id": "29e2d529",
   "metadata": {},
   "outputs": [],
   "source": []
  },
  {
   "cell_type": "markdown",
   "id": "57bfd833",
   "metadata": {},
   "source": [
    "#Ans6.)\n",
    "\n",
    "Suppose a factory produces light bulbs, and it is known that 3% of the bulbs are defective. A quality control inspector randomly selects a bulb from the production line and finds it defective. We can use Bayes' Theorem to calculate the probability that the bulb was produced by a certain machine, given that it is defective"
   ]
  },
  {
   "cell_type": "code",
   "execution_count": null,
   "id": "fe621b2a",
   "metadata": {},
   "outputs": [],
   "source": []
  },
  {
   "cell_type": "markdown",
   "id": "1ebe003e",
   "metadata": {},
   "source": [
    "#Ans8.)\n",
    "\n",
    "Q8: Margin of error in a confidence interval:\n",
    "\n",
    "The margin of error (ME) is the range within which the true population parameter is expected to lie, based on the sample statistic.\n",
    "It is calculated as the product of the critical value (Z or t) and the standard error of the sample mean.\n",
    "As the sample size increases, the margin of error decreases, indicating increased precision and confidence in the estimate.\n",
    "Example scenario:\n",
    "Suppose a political poll wants to estimate the proportion of voters supporting a candidate with 95% confidence and a margin of error of 3%. To achieve this smaller margin of error, a larger sample size is required. With a larger sample size, the estimate of the population proportion will be more precise and the confidence interval will be narrower"
   ]
  },
  {
   "cell_type": "code",
   "execution_count": null,
   "id": "a1b8b2ad",
   "metadata": {},
   "outputs": [],
   "source": []
  },
  {
   "cell_type": "code",
   "execution_count": null,
   "id": "9d9cf6a5",
   "metadata": {},
   "outputs": [],
   "source": [
    "#Ans9)\n",
    "\n"
   ]
  }
 ],
 "metadata": {
  "kernelspec": {
   "display_name": "Python 3 (ipykernel)",
   "language": "python",
   "name": "python3"
  },
  "language_info": {
   "codemirror_mode": {
    "name": "ipython",
    "version": 3
   },
   "file_extension": ".py",
   "mimetype": "text/x-python",
   "name": "python",
   "nbconvert_exporter": "python",
   "pygments_lexer": "ipython3",
   "version": "3.11.4"
  }
 },
 "nbformat": 4,
 "nbformat_minor": 5
}
